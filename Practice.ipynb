{
 "cells": [
  {
   "cell_type": "markdown",
   "id": "d071205b",
   "metadata": {},
   "source": [
    "## Use the following dataset to determine the r correlation co-efficient\n",
    "(x, y)\n",
    "(1, 43)\n",
    "(2, 45)\n",
    "(3, 60)\n",
    "(4, 77)\n",
    "(5, 68)\n",
    "(6, 76)\n",
    "(7, 100)\n",
    "(8, 100)\n",
    "(9, 97)\n",
    "(10, 100)"
   ]
  },
  {
   "cell_type": "markdown",
   "id": "371a66b4",
   "metadata": {},
   "source": [
    "## Use the following dataset to determine of their is a strong correlation between family earnings and house price affordability.\n",
    "\n",
    "#### Generated Dataset:\n",
    "#### Earnings (in $1000), House Cost (in $1000)\n",
    "(132, 433)\n",
    "(122, 401)\n",
    "(44, 125)\n",
    "(136, 430)\n",
    "(101, 223)\n",
    "(50, 223)\n",
    "(132, 503)\n",
    "(151, 452)\n",
    "(104, 343)\n",
    "(117, 372)\n",
    "(146, 476)\n",
    "(129, 345)\n",
    "(133, 434)\n",
    "(181, 663)\n",
    "(160, 688)\n",
    "(179, 646)\n",
    "(82, 293)\n",
    "(31, 83)\n",
    "(117, 379)\n",
    "(187, 702)\n"
   ]
  }
 ],
 "metadata": {
  "language_info": {
   "name": "python"
  }
 },
 "nbformat": 4,
 "nbformat_minor": 5
}
