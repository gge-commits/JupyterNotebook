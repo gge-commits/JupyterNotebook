{
 "cells": [
  {
   "cell_type": "markdown",
   "id": "d071205b",
   "metadata": {},
   "source": [
    "### 1. Use the following dataset to determine the r correlation co-efficient\n",
    "(x, y)\n",
    "(1, 43)\n",
    "(2, 45)\n",
    "(3, 60)\n",
    "(4, 77)\n",
    "(5, 68)\n",
    "(6, 76)\n",
    "(7, 100)\n",
    "(8, 100)\n",
    "(9, 97)\n",
    "(10, 100)"
   ]
  },
  {
   "cell_type": "code",
   "execution_count": 1,
   "id": "801996a8",
   "metadata": {},
   "outputs": [],
   "source": [
    "#Write your code here"
   ]
  },
  {
   "cell_type": "markdown",
   "id": "d04005a7",
   "metadata": {},
   "source": [
    "#### Comment whether you think it is worthwhile doing a linear regression on this data set."
   ]
  },
  {
   "cell_type": "markdown",
   "id": "371a66b4",
   "metadata": {},
   "source": [
    "### 2. Use the following dataset to determine if their is a strong correlation between family earnings and house price affordability.\n",
    "\n",
    "#### Generated Dataset:\n",
    "#### Earnings (in $1000), House Cost (in $1000)\n",
    "(132, 433)\n",
    "(122, 401)\n",
    "(44, 125)\n",
    "(136, 430)\n",
    "(101, 223)\n",
    "(50, 223)\n",
    "(132, 503)\n",
    "(151, 452)\n",
    "(104, 343)\n",
    "(117, 372)\n",
    "(146, 476)\n",
    "(129, 345)\n",
    "(133, 434)\n",
    "(181, 663)\n",
    "(160, 688)\n",
    "(179, 646)\n",
    "(82, 293)\n",
    "(31, 83)\n",
    "(117, 379)\n",
    "(187, 702)\n"
   ]
  },
  {
   "cell_type": "code",
   "execution_count": null,
   "id": "0bf7898b",
   "metadata": {},
   "outputs": [],
   "source": [
    "#Write your code here"
   ]
  },
  {
   "cell_type": "markdown",
   "id": "d0e53fda",
   "metadata": {},
   "source": [
    "#### Comment whether you think it is worthwhile doing a linear regression on this data set."
   ]
  }
 ],
 "metadata": {
  "kernelspec": {
   "display_name": "Python 3",
   "language": "python",
   "name": "python3"
  },
  "language_info": {
   "codemirror_mode": {
    "name": "ipython",
    "version": 3
   },
   "file_extension": ".py",
   "mimetype": "text/x-python",
   "name": "python",
   "nbconvert_exporter": "python",
   "pygments_lexer": "ipython3",
   "version": "3.12.1"
  }
 },
 "nbformat": 4,
 "nbformat_minor": 5
}
