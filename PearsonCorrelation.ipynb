{
 "cells": [
  {
   "cell_type": "markdown",
   "id": "cec67496",
   "metadata": {},
   "source": [
    "## The Pearson Correlation Coefficient\n",
    "#### The Pearson correlation coefficient, often denoted as r, is a statistical measure that assesses the linear relationship between two variables. It quantifies both the strength and direction of this relationship, ranging from -1 to +1. A value of +1 indicates a perfect positive linear correlation, -1 indicates a perfect negative linear correlation, and 0 indicates no linear correlation. \n",
    "\n",
    "#### Key aspects of the Pearson correlation coefficient:\n",
    "#### **Linearity** :\n",
    "#### It specifically measures the strength and direction of a linear relationship, meaning it assesses how well the data points fit a straight line. \n",
    "#### **Strength**:\n",
    "#### The magnitude (absolute value) of r indicates the strength of the relationship. A value closer to 1 (either positive or negative) suggests a strong linear relationship, while a value closer to 0 suggests a weak relationship. \n",
    "#### **Direction**:\n",
    "#### The sign of r indicates the direction of the relationship. A positive r means that as one variable increases, the other tends to increase as well. A negative r means that as one variable increases, the other tends to decrease. \n",
    "#### How to interpret the Pearson correlation coefficient: \n",
    "#### 0.7 to 1.0 (or -0.7 to -1.0): Strong positive (or negative) correlation. \n",
    "#### 0.5 to 0.7 (or -0.5 to -0.7): Moderate positive (or negative) correlation. \n",
    "#### 0.3 to 0.5 (or -0.3 to -0.5): Weak positive (or negative) correlation. \n",
    "#### to 0.3 (or 0 to -0.3): Very weak or no correlation. \n"
   ]
  }
 ],
 "metadata": {
  "language_info": {
   "name": "python"
  }
 },
 "nbformat": 4,
 "nbformat_minor": 5
}
